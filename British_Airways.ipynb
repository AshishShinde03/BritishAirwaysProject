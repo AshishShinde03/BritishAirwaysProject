{
  "nbformat": 4,
  "nbformat_minor": 0,
  "metadata": {
    "colab": {
      "provenance": [],
      "authorship_tag": "ABX9TyNjYEIEx07bDtqD2IV02uG/",
      "include_colab_link": true
    },
    "kernelspec": {
      "name": "python3",
      "display_name": "Python 3"
    },
    "language_info": {
      "name": "python"
    }
  },
  "cells": [
    {
      "cell_type": "markdown",
      "metadata": {
        "id": "view-in-github",
        "colab_type": "text"
      },
      "source": [
        "<a href=\"https://colab.research.google.com/github/AshishShinde03/BritishAirwaysProject/blob/main/British_Airways.ipynb\" target=\"_parent\"><img src=\"https://colab.research.google.com/assets/colab-badge.svg\" alt=\"Open In Colab\"/></a>"
      ]
    },
    {
      "cell_type": "code",
      "execution_count": 2,
      "metadata": {
        "id": "r7HDT3aJk60Z"
      },
      "outputs": [],
      "source": [
        "import requests\n",
        "from bs4 import BeautifulSoup\n",
        "import pandas as pd"
      ]
    },
    {
      "cell_type": "code",
      "source": [
        "base_url = \"https://www.airlinequality.com/airline-reviews/british-airways\"\n",
        "pages = 10\n",
        "page_size = 100\n",
        "\n",
        "reviews = []\n",
        "\n",
        "# for i in range(1, pages + 1):\n",
        "for i in range(1, pages + 1):\n",
        "\n",
        "    print(f\"Scraping page {i}\")\n",
        "\n",
        "    # Create URL to collect links from paginated data\n",
        "    url = f\"{base_url}/page/{i}/?sortby=post_date%3ADesc&pagesize={page_size}\"\n",
        "\n",
        "\n",
        "    # Collect HTML data from this page\n",
        "    response = requests.get(url)\n",
        "\n",
        "    # Parse content\n",
        "    content = response.content\n",
        "    parsed_content = BeautifulSoup(content, 'html.parser')\n",
        "    for para in parsed_content.find_all(\"div\", {\"class\": \"text_content\"}):\n",
        "        reviews.append(para.get_text())\n",
        "    \n",
        "    print(f\"   ---> {len(reviews)} total reviews\")"
      ],
      "metadata": {
        "colab": {
          "base_uri": "https://localhost:8080/"
        },
        "id": "0QDVZtaylWP9",
        "outputId": "6a7146dc-f8e0-4ec9-a463-7eead33e3cc3"
      },
      "execution_count": 9,
      "outputs": [
        {
          "output_type": "stream",
          "name": "stdout",
          "text": [
            "Scraping page 1\n",
            "   ---> 0 total reviews\n",
            "Scraping page 2\n",
            "   ---> 0 total reviews\n",
            "Scraping page 3\n",
            "   ---> 0 total reviews\n",
            "Scraping page 4\n",
            "   ---> 0 total reviews\n",
            "Scraping page 5\n",
            "   ---> 0 total reviews\n",
            "Scraping page 6\n",
            "   ---> 0 total reviews\n",
            "Scraping page 7\n",
            "   ---> 0 total reviews\n",
            "Scraping page 8\n",
            "   ---> 0 total reviews\n",
            "Scraping page 9\n",
            "   ---> 0 total reviews\n",
            "Scraping page 10\n",
            "   ---> 0 total reviews\n"
          ]
        }
      ]
    },
    {
      "cell_type": "code",
      "source": [
        "df = pd.DataFrame()\n",
        "df[\"reviews\"] = reviews\n",
        "df.head()"
      ],
      "metadata": {
        "colab": {
          "base_uri": "https://localhost:8080/",
          "height": 108
        },
        "id": "6bBF8G9fw3p8",
        "outputId": "8045b70a-0a88-4727-ba52-9cdbb35f944f"
      },
      "execution_count": 10,
      "outputs": [
        {
          "output_type": "execute_result",
          "data": {
            "text/plain": [
              "Empty DataFrame\n",
              "Columns: [reviews]\n",
              "Index: []"
            ],
            "text/html": [
              "\n",
              "  <div id=\"df-de5f5cd7-6f0e-49ac-9c94-1cdc2a7db61a\">\n",
              "    <div class=\"colab-df-container\">\n",
              "      <div>\n",
              "<style scoped>\n",
              "    .dataframe tbody tr th:only-of-type {\n",
              "        vertical-align: middle;\n",
              "    }\n",
              "\n",
              "    .dataframe tbody tr th {\n",
              "        vertical-align: top;\n",
              "    }\n",
              "\n",
              "    .dataframe thead th {\n",
              "        text-align: right;\n",
              "    }\n",
              "</style>\n",
              "<table border=\"1\" class=\"dataframe\">\n",
              "  <thead>\n",
              "    <tr style=\"text-align: right;\">\n",
              "      <th></th>\n",
              "      <th>reviews</th>\n",
              "    </tr>\n",
              "  </thead>\n",
              "  <tbody>\n",
              "  </tbody>\n",
              "</table>\n",
              "</div>\n",
              "      <button class=\"colab-df-convert\" onclick=\"convertToInteractive('df-de5f5cd7-6f0e-49ac-9c94-1cdc2a7db61a')\"\n",
              "              title=\"Convert this dataframe to an interactive table.\"\n",
              "              style=\"display:none;\">\n",
              "        \n",
              "  <svg xmlns=\"http://www.w3.org/2000/svg\" height=\"24px\"viewBox=\"0 0 24 24\"\n",
              "       width=\"24px\">\n",
              "    <path d=\"M0 0h24v24H0V0z\" fill=\"none\"/>\n",
              "    <path d=\"M18.56 5.44l.94 2.06.94-2.06 2.06-.94-2.06-.94-.94-2.06-.94 2.06-2.06.94zm-11 1L8.5 8.5l.94-2.06 2.06-.94-2.06-.94L8.5 2.5l-.94 2.06-2.06.94zm10 10l.94 2.06.94-2.06 2.06-.94-2.06-.94-.94-2.06-.94 2.06-2.06.94z\"/><path d=\"M17.41 7.96l-1.37-1.37c-.4-.4-.92-.59-1.43-.59-.52 0-1.04.2-1.43.59L10.3 9.45l-7.72 7.72c-.78.78-.78 2.05 0 2.83L4 21.41c.39.39.9.59 1.41.59.51 0 1.02-.2 1.41-.59l7.78-7.78 2.81-2.81c.8-.78.8-2.07 0-2.86zM5.41 20L4 18.59l7.72-7.72 1.47 1.35L5.41 20z\"/>\n",
              "  </svg>\n",
              "      </button>\n",
              "      \n",
              "  <style>\n",
              "    .colab-df-container {\n",
              "      display:flex;\n",
              "      flex-wrap:wrap;\n",
              "      gap: 12px;\n",
              "    }\n",
              "\n",
              "    .colab-df-convert {\n",
              "      background-color: #E8F0FE;\n",
              "      border: none;\n",
              "      border-radius: 50%;\n",
              "      cursor: pointer;\n",
              "      display: none;\n",
              "      fill: #1967D2;\n",
              "      height: 32px;\n",
              "      padding: 0 0 0 0;\n",
              "      width: 32px;\n",
              "    }\n",
              "\n",
              "    .colab-df-convert:hover {\n",
              "      background-color: #E2EBFA;\n",
              "      box-shadow: 0px 1px 2px rgba(60, 64, 67, 0.3), 0px 1px 3px 1px rgba(60, 64, 67, 0.15);\n",
              "      fill: #174EA6;\n",
              "    }\n",
              "\n",
              "    [theme=dark] .colab-df-convert {\n",
              "      background-color: #3B4455;\n",
              "      fill: #D2E3FC;\n",
              "    }\n",
              "\n",
              "    [theme=dark] .colab-df-convert:hover {\n",
              "      background-color: #434B5C;\n",
              "      box-shadow: 0px 1px 3px 1px rgba(0, 0, 0, 0.15);\n",
              "      filter: drop-shadow(0px 1px 2px rgba(0, 0, 0, 0.3));\n",
              "      fill: #FFFFFF;\n",
              "    }\n",
              "  </style>\n",
              "\n",
              "      <script>\n",
              "        const buttonEl =\n",
              "          document.querySelector('#df-de5f5cd7-6f0e-49ac-9c94-1cdc2a7db61a button.colab-df-convert');\n",
              "        buttonEl.style.display =\n",
              "          google.colab.kernel.accessAllowed ? 'block' : 'none';\n",
              "\n",
              "        async function convertToInteractive(key) {\n",
              "          const element = document.querySelector('#df-de5f5cd7-6f0e-49ac-9c94-1cdc2a7db61a');\n",
              "          const dataTable =\n",
              "            await google.colab.kernel.invokeFunction('convertToInteractive',\n",
              "                                                     [key], {});\n",
              "          if (!dataTable) return;\n",
              "\n",
              "          const docLinkHtml = 'Like what you see? Visit the ' +\n",
              "            '<a target=\"_blank\" href=https://colab.research.google.com/notebooks/data_table.ipynb>data table notebook</a>'\n",
              "            + ' to learn more about interactive tables.';\n",
              "          element.innerHTML = '';\n",
              "          dataTable['output_type'] = 'display_data';\n",
              "          await google.colab.output.renderOutput(dataTable, element);\n",
              "          const docLink = document.createElement('div');\n",
              "          docLink.innerHTML = docLinkHtml;\n",
              "          element.appendChild(docLink);\n",
              "        }\n",
              "      </script>\n",
              "    </div>\n",
              "  </div>\n",
              "  "
            ]
          },
          "metadata": {},
          "execution_count": 10
        }
      ]
    },
    {
      "cell_type": "code",
      "source": [
        "df.to_csv('First_class_ratings.csv', index=False)"
      ],
      "metadata": {
        "id": "dNBVkSfHw3s8"
      },
      "execution_count": 8,
      "outputs": []
    },
    {
      "cell_type": "code",
      "source": [
        "df = pd.DataFrame()\n",
        "df[\"reviews\"] = reviews\n",
        "df.head()"
      ],
      "metadata": {
        "id": "c42kAjFuMEcd"
      },
      "execution_count": null,
      "outputs": []
    },
    {
      "cell_type": "code",
      "source": [
        "import requests\n",
        "from bs4 import BeautifulSoup\n",
        "import pandas as pd\n",
        "\n",
        "url = 'https://www.airlinequality.com/airline-reviews/british-airways/?sortby=post_date%3ADesc&pagesize=100'\n",
        "\n",
        "# create an empty list to store the extracted data\n",
        "reviews_list = []\n",
        "\n",
        "for page_num in range(1, 101):\n",
        "    params = {'page': page_num}\n",
        "    response = requests.get(url, params=params)\n",
        "    soup = BeautifulSoup(response.text, 'html.parser')\n",
        "    \n",
        "    review_blocks = soup.find_all('div', class_='review-stats')\n",
        "    \n",
        "    for block in review_blocks:\n",
        "        try:\n",
        "            type_of_traveler = block.find('td', class_='review-rating-header type_of_traveller').find_next('td').text.strip()\n",
        "        except AttributeError:\n",
        "            type_of_traveler = \"N/A\"\n",
        "        try:\n",
        "            cabin_flown = block.find('td', class_='review-rating-header cabin_flown').find_next('td').text.strip()\n",
        "        except AttributeError:\n",
        "            cabin_flown = \"N/A\"\n",
        "        try: \n",
        "            route = block.find('td', class_='review-rating-header route').find_next('td').text.strip()\n",
        "        except AttributeError:\n",
        "            route = \"N/A\" \n",
        "        try:\n",
        "            date_flown = block.find('td', class_='review-rating-header date_flown').find_next('td').text.strip()\n",
        "        except AttributeError:\n",
        "            date_flown = \"N/A\"\n",
        "        try:\n",
        "            recommended = block.find('td', class_='review-rating-header recommended').find_next('td').text.strip()\n",
        "        except AttributeError:\n",
        "            recommended = \"N/A\"\n",
        "        try:\n",
        "            cabin_staff_service = block.find('td', class_='review-rating-header cabin_staff_service').find_next('td').find_all('span', class_='fill')\n",
        "            cabin_staff_service_rating = len(cabin_staff_service)\n",
        "        except AttributeError:\n",
        "            cabin_staff_service = \"N/A\"\n",
        "        try:\n",
        "            food_and_beverages = block.find('td', class_='review-rating-header food_and_beverages').find_next('td').find_all('span', class_='fill')\n",
        "            food_and_beverages_rating = len(food_and_beverages)\n",
        "        except AttributeError:\n",
        "            food_and_beverages = \"N/A\"\n",
        "        try:\n",
        "            ground_service = block.find('td', class_='review-rating-header ground_service').find_next('td').find_all('span', class_='fill')\n",
        "            ground_service_rating = len(ground_service)\n",
        "        except AttributeError:\n",
        "            ground_service = \"N/A\"\n",
        "        try:\n",
        "            value_for_money = block.find('td', class_='review-rating-header value_for_money').find_next('td').find_all('span', class_='fill')\n",
        "            value_for_money_rating = len(value_for_money)\n",
        "        except AttributeError:\n",
        "            value_for_money = \"N/A\"\n",
        "        \n",
        "        # add the extracted data as a dictionary to the list\n",
        "        review_dict = {\n",
        "            'Type of traveler': type_of_traveler,\n",
        "            'Cabin flown': cabin_flown,\n",
        "            'Route': route,\n",
        "            'Date flown': date_flown,\n",
        "            'Recommended': recommended,\n",
        "            'Cabin Staff Service': cabin_staff_service_rating,\n",
        "            'Food & Beverages': food_and_beverages_rating,\n",
        "            'Ground Service': ground_service_rating,\n",
        "            'Value for Money': value_for_money_rating\n",
        "        }\n",
        "        reviews_list.append(review_dict)\n",
        "\n",
        "# create a dataframe from the list\n",
        "df = pd.DataFrame(reviews_list)\n",
        "\n",
        "# export the dataframe to an excel file\n",
        "df.to_excel('british_airways_reviews_full.xlsx', index=False)\n",
        "\n"
      ],
      "metadata": {
        "id": "ziPzQ7aVOrCZ"
      },
      "execution_count": 64,
      "outputs": []
    },
    {
      "cell_type": "code",
      "source": [],
      "metadata": {
        "id": "MZEOBSwyPxso"
      },
      "execution_count": null,
      "outputs": []
    }
  ]
}